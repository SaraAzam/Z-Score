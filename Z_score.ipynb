{
  "nbformat": 4,
  "nbformat_minor": 0,
  "metadata": {
    "colab": {
      "name": "Z score",
      "provenance": [],
      "collapsed_sections": []
    },
    "kernelspec": {
      "name": "python3",
      "display_name": "Python 3"
    }
  },
  "cells": [
    {
      "cell_type": "code",
      "metadata": {
        "colab": {
          "base_uri": "https://localhost:8080/"
        },
        "id": "6orcvllJ462B",
        "outputId": "2974cc60-004f-4298-8b0c-9fdfc0695ff6"
      },
      "source": [
        "import numpy as np\r\n",
        "import pandas  as pd\r\n",
        "\r\n",
        "dataset = pd.read_csv('heights.csv')\r\n",
        "accending = dataset[\"height\"].values\r\n",
        "print(accending)\r\n",
        "outliars=[]\r\n",
        "def data_finder(data):\r\n",
        "    threshold =1\r\n",
        "    mean = np.mean(data)\r\n",
        "    std = np.std(data)\r\n",
        "    for i in range(len(data)):\r\n",
        "        z_score = (data[i]-mean)/std\r\n",
        "        if np.abs(z_score)>threshold:\r\n",
        "            outliars.append(i)\r\n",
        "    return outliars\r\n",
        "\r\n",
        "data_pred= data_finder(accending)\r\n",
        "\r\n",
        "print(data_pred)"
      ],
      "execution_count": null,
      "outputs": [
        {
          "output_type": "stream",
          "text": [
            "[ 5.9  5.2  5.1  5.5  4.9  5.4  6.2  6.5  7.1 14.5  6.1  5.6  1.2  5.5]\n",
            "[9, 12]\n"
          ],
          "name": "stdout"
        }
      ]
    }
  ]
}